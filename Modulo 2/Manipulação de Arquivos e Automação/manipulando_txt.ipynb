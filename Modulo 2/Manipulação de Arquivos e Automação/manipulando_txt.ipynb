{
 "cells": [
  {
   "cell_type": "markdown",
   "id": "8db30156",
   "metadata": {},
   "source": [
    "# Lendo um txt\n",
    "\n",
    "em python, usamos a função open() para abrir arquivos"
   ]
  },
  {
   "cell_type": "code",
   "execution_count": null,
   "id": "0b8a0e38",
   "metadata": {},
   "outputs": [],
   "source": [
    "arquivo = open(\"hello_world.txt\",\"r\")\n",
    "print(arquivo)"
   ]
  },
  {
   "cell_type": "markdown",
   "id": "2aed7d3b",
   "metadata": {},
   "source": [
    "os modos são\n",
    "- r - leitura\n",
    "- w - escrita (sobrescreve)\n",
    "- A - Escrita (adicional no final)\n",
    "- x - escrita (Cria um novo arquivo)\n",
    "- b - modo binario\n",
    "- t - modo texto (padrão)"
   ]
  },
  {
   "cell_type": "markdown",
   "id": "209ca1ad",
   "metadata": {},
   "source": [
    "# Lendo um arquivo linha por linha"
   ]
  }
 ],
 "metadata": {
  "kernelspec": {
   "display_name": "Python 3",
   "language": "python",
   "name": "python3"
  },
  "language_info": {
   "name": "python",
   "version": "3.13.2"
  }
 },
 "nbformat": 4,
 "nbformat_minor": 5
}

{
 "cells": [
  {
   "cell_type": "markdown",
   "id": "c5544553",
   "metadata": {},
   "source": [
    "# Json\n"
   ]
  },
  {
   "cell_type": "markdown",
   "id": "22a384ce",
   "metadata": {},
   "source": [
    "O json é um formato que armazena informações na forma de codigo-fonte javascript em arquivos com formato de texto simples. Não é necessario conhecer a linguagem de programação java script para usar arquivos json, porém é util conhecer"
   ]
  },
  {
   "cell_type": "code",
   "execution_count": 4,
   "id": "84318777",
   "metadata": {},
   "outputs": [],
   "source": [
    "import json"
   ]
  },
  {
   "cell_type": "markdown",
   "id": "e789e7f0",
   "metadata": {},
   "source": [
    "## 1. Criando um arquivo json do zero"
   ]
  },
  {
   "cell_type": "code",
   "execution_count": 5,
   "id": "229dcb41",
   "metadata": {},
   "outputs": [],
   "source": [
    "# Dicionário Python\n",
    "dados = {\n",
    "    'nome': 'Maria',\n",
    "    'idade': 30,\n",
    "    'cursos': ['Python', 'Machine Learning']\n",
    "}\n",
    "\n",
    "with open('dados.json', 'w', encoding='utf-8') as arquivo:\n",
    "    json.dump(dados, arquivo, indent=4, ensure_ascii=False)\n",
    "\n",
    "# json.dump() = converte um objeto python em json"
   ]
  },
  {
   "cell_type": "markdown",
   "id": "b27c7bb0",
   "metadata": {},
   "source": [
    "## 2. Lendo um arquivo JSON"
   ]
  },
  {
   "cell_type": "code",
   "execution_count": null,
   "id": "cc9d58e9",
   "metadata": {},
   "outputs": [],
   "source": [
    "with open('dados.json', 'r', encoding='utf-8') as arquivo:\n",
    "    dados = json.load(arquivo)\n",
    "\n",
    "print(dados)\n",
    "print(type(dados))\n",
    "\n",
    "# json.load() converte o arquivo json para dicionário\n"
   ]
  },
  {
   "cell_type": "markdown",
   "id": "b26b6d21",
   "metadata": {},
   "source": [
    "## 3. Convertendo um objeto em uma string JSON"
   ]
  },
  {
   "cell_type": "code",
   "execution_count": null,
   "id": "8efde045",
   "metadata": {},
   "outputs": [],
   "source": [
    "# Dicionário Python\n",
    "dados = {\n",
    "    'nome': 'João',\n",
    "    'idade': 35,\n",
    "    'ativo': True\n",
    "}\n",
    "\n",
    "json_str = json.dumps(dados, indent=2, ensure_ascii=False)\n",
    "print(json_str)\n",
    "print(type(json_str))\n",
    "\n",
    "#json.dumps() = converte um objeto Python em uma string no formato JSON\n",
    "\n"
   ]
  }
 ],
 "metadata": {
  "kernelspec": {
   "display_name": "Python 3",
   "language": "python",
   "name": "python3"
  },
  "language_info": {
   "codemirror_mode": {
    "name": "ipython",
    "version": 3
   },
   "file_extension": ".py",
   "mimetype": "text/x-python",
   "name": "python",
   "nbconvert_exporter": "python",
   "pygments_lexer": "ipython3",
   "version": "3.13.2"
  }
 },
 "nbformat": 4,
 "nbformat_minor": 5
}

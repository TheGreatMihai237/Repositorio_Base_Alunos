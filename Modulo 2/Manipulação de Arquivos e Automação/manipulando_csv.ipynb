{
 "cells": [
  {
   "cell_type": "markdown",
   "id": "a97d2301",
   "metadata": {},
   "source": [
    "# CSV"
   ]
  },
  {
   "cell_type": "markdown",
   "id": "5358bc07",
   "metadata": {},
   "source": [
    "CSV (Comma-Separated Values) é um formato de arquivo de texto simples usado para armazenar dados em formato de tabela, onde:\n",
    "\n",
    "-Cada linha representa um registro\n",
    "\n",
    "-Cada coluna é separada por vírgulas (ou outro delimitador)\n",
    "\n",
    "-Pode ser aberto por Excel, GoogleSheets, pandas, etc.\n",
    "\n",
    "Exemplo de conteúdo de um alunos.csv:\n",
    "nome,idade,curso\n",
    "Maria, 30, Python\n",
    "João, 25, Data Science\n",
    "\n",
    "O módulo csv permite ler e escrever arquivos CSV facilmente. Ele oferece duas formas principais:\n",
    "\n",
    "Usando listas como csv.reader() e csv.writer()\n",
    "\n",
    "Usando dicionários com csv.DictReader() e csv.DictWrite()"
   ]
  },
  {
   "cell_type": "code",
   "execution_count": 5,
   "id": "b93e0411",
   "metadata": {},
   "outputs": [],
   "source": [
    "import csv"
   ]
  },
  {
   "cell_type": "code",
   "execution_count": 15,
   "id": "2e8a6d36",
   "metadata": {},
   "outputs": [],
   "source": [
    "# 1. Criar um csv com csv.write()\n",
    "dados = [\n",
    "    [\"nome\", \"idade\", \"curso\"],\n",
    "    [\"Maria\", 30, \"python\"],\n",
    "    [\"joão\", 25, \"data science\"]\n",
    "]\n",
    "\n",
    "# Abrir o arquivo em modo escrita (\"w\"), com enconding e newline =\"\" ArithmetricError\n",
    "with open(\"alunos.csv\",\"w\",newline=\"\", encoding=\"utf-8\") as arquivo:\n",
    "          # Criamos um objeto \"write que é o escritor de um arquivo csv.\n",
    "          escritor = csv.writer(arquivo)\n",
    "          # escrever todas as linhas de lista \"dados\" de uma vez, .writerows é um método do objeto escritor\n",
    "          escritor.writerows(dados)"
   ]
  },
  {
   "cell_type": "markdown",
   "id": "cbb77132",
   "metadata": {},
   "source": [
    "Observação dobre o uso de newline=\"\"\n",
    "Sempre use newline=\"\" ao abrir o arquivo com open() para evitar quebras de linha duplicadas, principalmente no windows"
   ]
  },
  {
   "cell_type": "markdown",
   "id": "7a768ded",
   "metadata": {},
   "source": [
    "# 2. csv reader()\n"
   ]
  },
  {
   "cell_type": "code",
   "execution_count": 16,
   "id": "0141b444",
   "metadata": {},
   "outputs": [
    {
     "name": "stdout",
     "output_type": "stream",
     "text": [
      "['nome', 'idade', 'curso']\n",
      "['Maria', '30', 'python']\n",
      "['joão', '25', 'data science']\n"
     ]
    }
   ],
   "source": [
    "# Abrimos o arquivo em modo leitura(\"R\"), com encoding\n",
    "with open(\"alunos.csv\", \"r\", encoding=\"utf-8\") as arquivo:\n",
    "    # o reader cria um objeo interavel que transforma cada\n",
    "    leitor = csv.reader(arquivo)\n",
    "\n",
    "    for linha in leitor:\n",
    "        print(linha)"
   ]
  },
  {
   "cell_type": "markdown",
   "id": "c2c21fb3",
   "metadata": {},
   "source": [
    "## 3. Lendo como dicionario com csv.DictReader()"
   ]
  },
  {
   "cell_type": "code",
   "execution_count": 18,
   "id": "d7571ecc",
   "metadata": {},
   "outputs": [
    {
     "name": "stdout",
     "output_type": "stream",
     "text": [
      "{'nome': 'Maria', 'idade': '30', 'curso': 'python'}\n",
      "{'nome': 'joão', 'idade': '25', 'curso': 'data science'}\n"
     ]
    }
   ],
   "source": [
    "# abrimos o arquivo em modo leitura (\"R\"), com encoding\n",
    "with open(\"alunos.csv\", \"r\", encoding=\"utf-8\") as arquivo:\n",
    "    #o reader cria um objeto iteravel que transforma cada\n",
    "    leitor = csv.DictReader(arquivo)\n",
    "\n",
    "    for linha in leitor:\n",
    "        print(linha)"
   ]
  },
  {
   "cell_type": "markdown",
   "id": "d6032a16",
   "metadata": {},
   "source": [
    "## 4.Adicionando uma linha ao CSV\n"
   ]
  },
  {
   "cell_type": "code",
   "execution_count": 22,
   "id": "c6399750",
   "metadata": {},
   "outputs": [],
   "source": [
    "nova_linha=[\"fernando\",27,\"banco de dados\"]\n",
    "with open(\"alunos.csv\", \"a\", newline=\"\", encoding=\"utf=8\") as arquivo:\n",
    "    escritor = csv.writer(arquivo)\n",
    "    escritor.writerow(nova_linha)"
   ]
  }
 ],
 "metadata": {
  "kernelspec": {
   "display_name": "Python 3",
   "language": "python",
   "name": "python3"
  },
  "language_info": {
   "codemirror_mode": {
    "name": "ipython",
    "version": 3
   },
   "file_extension": ".py",
   "mimetype": "text/x-python",
   "name": "python",
   "nbconvert_exporter": "python",
   "pygments_lexer": "ipython3",
   "version": "3.13.2"
  }
 },
 "nbformat": 4,
 "nbformat_minor": 5
}
